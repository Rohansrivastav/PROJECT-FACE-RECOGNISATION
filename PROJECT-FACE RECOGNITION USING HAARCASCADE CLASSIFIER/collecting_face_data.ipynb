{
 "cells": [
  {
   "cell_type": "code",
   "execution_count": 1,
   "metadata": {},
   "outputs": [
    {
     "name": "stdout",
     "output_type": "stream",
     "text": [
      "Enter the name of the person : Rishab\n",
      "1\n",
      "2\n",
      "3\n",
      "4\n",
      "5\n",
      "6\n",
      "7\n",
      "8\n",
      "9\n",
      "10\n",
      "11\n",
      "(11, 30000)\n",
      "Data Successfully save at Rishab.npy\n"
     ]
    }
   ],
   "source": [
    "#READING A VIDEO STREAM FROM CAMERA (FRAME BY FRAME)\n",
    "import cv2\n",
    "import numpy as np\n",
    "#start video capturing\n",
    "cap=cv2.VideoCapture(0)\n",
    "#face detection using haarcascades classifier\n",
    "face_cascade=cv2.CascadeClassifier(\"haarcascade_frontalface_alt.xml\")\n",
    "face_data=[]\n",
    "skip=0\n",
    "file_name = input(\"Enter the name of the person : \")\n",
    "while True:\n",
    "    \n",
    "    ret,frame=cap.read()\n",
    "    if ret==False:\n",
    "        continue\n",
    "    gray=cv2.cvtColor(frame,cv2.COLOR_BGR2GRAY)    \n",
    "    faces=face_cascade.detectMultiScale(frame,1.3,5) \n",
    "    if len(faces)==0:\n",
    "        continue\n",
    "    \n",
    "    faces=sorted(faces,key=lambda f:f[2]*f[3])#sorting the faces according to its area\n",
    "    #picking the last face, as it is sorted in ascending order \n",
    "    for(x,y,w,h) in faces[-1:]:        \n",
    "        cv2.rectangle(frame,(x,y),(x+y,y+h),(255,255,0),3)\n",
    "         #EXTRACTING (CROPPING OUT THE REQUIRED FACE):REGION OF INTEREST\n",
    "        offset=10\n",
    "        #using offset to provide padding in all the the 4 direction of th square frame  \n",
    "        #slicing\n",
    "        face_section=frame[y-offset:y+h+offset,x-offset:x+w+offset]\n",
    "        face_section=cv2.resize(face_section,(100,100))\n",
    "        skip+=1\n",
    "        if skip%10==0:\n",
    "            face_data.append(face_section)\n",
    "            print(len(face_data))\n",
    "        #WE ARE NOT CAPTURING ALL THE FRAMES , WE ARE CAPTURING EVERY 10 TH FACE AND INSERT IT INTO OUR FACE_DATA LIST    \n",
    "            \n",
    "            \n",
    "    cv2.imshow(\"COLOR FRAME\",frame) \n",
    "    cv2.imshow(\"Face Section\",face_section)\n",
    "    \n",
    "    #WAIT FOR USER INPUT -q , then we will stop the loop\n",
    "    key_pressed=cv2.waitKey(1) & 0xFF  \n",
    "    #cv2.waitekey(1)will be a 32 bit number , in order to take its last 8 bits ,\n",
    "    #we are using and bitwise operator with 0xFF which is a all ones 8 bit number\n",
    "    if key_pressed==ord('q'):\n",
    "        break \n",
    "        \n",
    "# Convert our face list array into a numpy array\n",
    "face_data = np.asarray(face_data)\n",
    "face_data = face_data.reshape((face_data.shape[0],-1))\n",
    "print(face_data.shape)\n",
    "\n",
    "# Save this data into file system\n",
    "np.save(file_name+'.npy',face_data)\n",
    "print(\"Data Successfully save at \"+file_name+'.npy')\n",
    "cap.release()\n",
    "cv2.destroyAllWindows()"
   ]
  },
  {
   "cell_type": "code",
   "execution_count": null,
   "metadata": {},
   "outputs": [],
   "source": [
    "\n"
   ]
  },
  {
   "cell_type": "code",
   "execution_count": null,
   "metadata": {},
   "outputs": [],
   "source": []
  },
  {
   "cell_type": "code",
   "execution_count": null,
   "metadata": {},
   "outputs": [],
   "source": []
  },
  {
   "cell_type": "code",
   "execution_count": null,
   "metadata": {},
   "outputs": [],
   "source": []
  }
 ],
 "metadata": {
  "kernelspec": {
   "display_name": "Python 3",
   "language": "python",
   "name": "python3"
  },
  "language_info": {
   "codemirror_mode": {
    "name": "ipython",
    "version": 3
   },
   "file_extension": ".py",
   "mimetype": "text/x-python",
   "name": "python",
   "nbconvert_exporter": "python",
   "pygments_lexer": "ipython3",
   "version": "3.8.5"
  }
 },
 "nbformat": 4,
 "nbformat_minor": 4
}
